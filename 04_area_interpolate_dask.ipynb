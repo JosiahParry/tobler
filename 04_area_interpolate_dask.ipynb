{
 "cells": [
  {
   "cell_type": "markdown",
   "id": "e3f2586a-5b6a-4d46-b6e8-1991ae3bec6f",
   "metadata": {},
   "source": [
    "# (Distributed) areal interpolation"
   ]
  },
  {
   "cell_type": "markdown",
   "id": "00f875bd-2714-4551-b10c-1ef3f514478d",
   "metadata": {},
   "source": [
    "In this notebook, we compare the single-core version in `tobler.area_weighted.area_interpolate` with the distributed version in `tobler.area_weighted.area_interpolate_dask`. "
   ]
  },
  {
   "cell_type": "code",
   "execution_count": 1,
   "id": "b70ac531-082c-4e77-9194-c5d4096b72ae",
   "metadata": {
    "tags": []
   },
   "outputs": [],
   "source": [
    "import os\n",
    "os.environ['USE_PYGEOS'] = '1'\n",
    "\n",
    "import geopandas\n",
    "import dask_geopandas\n",
    "import tobler\n",
    "\n",
    "from dask.distributed import Client, LocalCluster"
   ]
  },
  {
   "cell_type": "markdown",
   "id": "d16a2e15-866b-407d-b65d-54a675aefbd7",
   "metadata": {},
   "source": [
    "## Setup"
   ]
  },
  {
   "cell_type": "markdown",
   "id": "e8858b38-0a72-4f72-98be-c490f8201d86",
   "metadata": {},
   "source": [
    "We use the San Diego H3 dataset from the [GDS Book](https://geographicdata.science/book/data/h3_grid/build_sd_h3_grid.html):"
   ]
  },
  {
   "cell_type": "code",
   "execution_count": 2,
   "id": "dc60a91c-0d58-4b19-b180-69692286c9a0",
   "metadata": {
    "tags": []
   },
   "outputs": [],
   "source": [
    "h3 = geopandas.read_file((\n",
    "    'https://geographicdata.science/book/'\n",
    "    '_downloads/d740a1069144baa1302b9561c3d31afe/sd_h3_grid.gpkg'\n",
    ")).to_crs(epsg=3310)"
   ]
  },
  {
   "cell_type": "markdown",
   "id": "41b31033-9711-4102-98af-66b3b6945bcb",
   "metadata": {},
   "source": [
    "And the Census tracts dataset, also from the same [source](https://geographicdata.science/book/data/sandiego/sandiego_tracts_cleaning.html):"
   ]
  },
  {
   "cell_type": "code",
   "execution_count": 3,
   "id": "271b9208-1ae7-41f0-8234-da1d1ed2030a",
   "metadata": {
    "tags": []
   },
   "outputs": [
    {
     "name": "stderr",
     "output_type": "stream",
     "text": [
      "/Users/dani/mambaforge/envs/gds/lib/python3.10/site-packages/pygeos/set_operations.py:129: RuntimeWarning: invalid value encountered in intersection\n",
      "  return lib.intersection(a, b, **kwargs)\n"
     ]
    }
   ],
   "source": [
    "tracts = (\n",
    "    geopandas.read_file((\n",
    "        'https://geographicdata.science/book/'\n",
    "        '_downloads/f2341ee89163afe06b42fc5d5ed38060/sandiego_tracts.gpkg'\n",
    "    ))\n",
    "    .to_crs(epsg=3310)\n",
    "    .clip(h3)\n",
    ")"
   ]
  },
  {
   "cell_type": "markdown",
   "id": "2ebddef3-ed10-4164-99bb-3ca07f3aa1de",
   "metadata": {},
   "source": [
    "Note in both cases we require a projected CRS and thus use the [NAD83/California Albers](https://epsg.io/3310)."
   ]
  },
  {
   "cell_type": "markdown",
   "id": "d2546bb7-abcb-4cad-8db8-c569ea9289ae",
   "metadata": {},
   "source": [
    "We will set up a local Dask cluster:"
   ]
  },
  {
   "cell_type": "code",
   "execution_count": 4,
   "id": "d65ac8ec-51e2-4d2d-abb2-96a7519ed749",
   "metadata": {
    "tags": []
   },
   "outputs": [
    {
     "name": "stderr",
     "output_type": "stream",
     "text": [
      "2023-08-10 15:19:49,969 - distributed.diskutils - INFO - Found stale lock file and directory '/var/folders/dz/5zvlmz1s0739pm0wx2ryxjf00000gn/T/dask-worker-space/worker-taj3n78d', purging\n",
      "2023-08-10 15:19:49,970 - distributed.diskutils - INFO - Found stale lock file and directory '/var/folders/dz/5zvlmz1s0739pm0wx2ryxjf00000gn/T/dask-worker-space/worker-283edkzp', purging\n",
      "2023-08-10 15:19:49,970 - distributed.diskutils - INFO - Found stale lock file and directory '/var/folders/dz/5zvlmz1s0739pm0wx2ryxjf00000gn/T/dask-worker-space/worker-5sq_o8d_', purging\n",
      "2023-08-10 15:19:49,971 - distributed.diskutils - INFO - Found stale lock file and directory '/var/folders/dz/5zvlmz1s0739pm0wx2ryxjf00000gn/T/dask-worker-space/worker-8pnf3b0w', purging\n",
      "2023-08-10 15:19:49,972 - distributed.diskutils - INFO - Found stale lock file and directory '/var/folders/dz/5zvlmz1s0739pm0wx2ryxjf00000gn/T/dask-worker-space/worker-0kn_mkzc', purging\n",
      "2023-08-10 15:19:49,973 - distributed.diskutils - INFO - Found stale lock file and directory '/var/folders/dz/5zvlmz1s0739pm0wx2ryxjf00000gn/T/dask-worker-space/worker-kkw_crni', purging\n",
      "2023-08-10 15:19:49,974 - distributed.diskutils - INFO - Found stale lock file and directory '/var/folders/dz/5zvlmz1s0739pm0wx2ryxjf00000gn/T/dask-worker-space/worker-8ycp859d', purging\n",
      "2023-08-10 15:19:49,974 - distributed.diskutils - INFO - Found stale lock file and directory '/var/folders/dz/5zvlmz1s0739pm0wx2ryxjf00000gn/T/dask-worker-space/worker-fb2nvcnm', purging\n",
      "2023-08-10 15:19:49,974 - distributed.diskutils - INFO - Found stale lock file and directory '/var/folders/dz/5zvlmz1s0739pm0wx2ryxjf00000gn/T/dask-worker-space/worker-mpy0p1sd', purging\n",
      "2023-08-10 15:19:49,975 - distributed.diskutils - INFO - Found stale lock file and directory '/var/folders/dz/5zvlmz1s0739pm0wx2ryxjf00000gn/T/dask-worker-space/worker-y5wx5vyl', purging\n"
     ]
    }
   ],
   "source": [
    "client = Client(LocalCluster(n_workers=10))"
   ]
  },
  {
   "cell_type": "markdown",
   "id": "88c32c7d-0ca8-4945-a1f8-edfbc8917880",
   "metadata": {},
   "source": [
    "Finally, for Dask, we need to provide `dask_geopandas.GeoDataFrame` objects with spatial partitions and categorical variables properly set up:"
   ]
  },
  {
   "cell_type": "code",
   "execution_count": 5,
   "id": "7fef3124-a5d9-4712-bf9e-53fdf344c37f",
   "metadata": {
    "tags": []
   },
   "outputs": [],
   "source": [
    "tracts['sub_30'] = tracts['sub_30'].astype('category')\n",
    "tracts['tract'] = tracts['tract'].astype('category')\n",
    "\n",
    "dtracts = (\n",
    "    dask_geopandas.from_geopandas(tracts[\n",
    "        ['geometry', 'sub_30', 'tract', 'total_pop', 'total_pop_white']\n",
    "    ], npartitions=10)\n",
    "    .spatial_shuffle(by='hilbert', shuffle=\"tasks\")\n",
    ")\n",
    "\n",
    "dh3 = (\n",
    "    dask_geopandas.from_geopandas(h3, npartitions=10)\n",
    "    .spatial_shuffle(by='hilbert', shuffle=\"tasks\")\n",
    ")"
   ]
  },
  {
   "cell_type": "markdown",
   "id": "54f986ec-ea46-479e-aed8-5edeeaf16fda",
   "metadata": {},
   "source": [
    "---\n",
    "\n",
    "**IMPORTANT** - At this point, only *extensive* and *categorical* variables are implemented, so those are what we will test.\n",
    "\n",
    "---"
   ]
  },
  {
   "cell_type": "markdown",
   "id": "b783aabc-8221-40f6-a0d5-bf21dd75e2a6",
   "metadata": {},
   "source": [
    "## Correctness"
   ]
  },
  {
   "cell_type": "markdown",
   "id": "958a9509-2666-4cf5-88f0-3e22ab8d8eac",
   "metadata": {},
   "source": [
    "### Extensive\n",
    "\n",
    "Here we transfer the total population from `tracts` to `h3`."
   ]
  },
  {
   "cell_type": "markdown",
   "id": "c0e1d903-1e6f-446b-9d46-93cbdce3bc76",
   "metadata": {},
   "source": [
    "First, we transfer with the single-core approach:"
   ]
  },
  {
   "cell_type": "code",
   "execution_count": 6,
   "id": "2d5dd9e8-4c55-43d0-9730-4b1f0826305f",
   "metadata": {
    "tags": []
   },
   "outputs": [
    {
     "name": "stderr",
     "output_type": "stream",
     "text": [
      "/Users/dani/mambaforge/envs/gds/lib/python3.10/site-packages/shapely/predicates.py:798: RuntimeWarning: invalid value encountered in intersects\n",
      "  return lib.intersects(a, b, **kwargs)\n",
      "/Users/dani/mambaforge/envs/gds/lib/python3.10/site-packages/shapely/set_operations.py:133: RuntimeWarning: invalid value encountered in intersection\n",
      "  return lib.intersection(a, b, **kwargs)\n"
     ]
    }
   ],
   "source": [
    "ext_sc = tobler.area_weighted.area_interpolate(\n",
    "    tracts, h3, extensive_variables=['total_pop', 'total_pop_white']\n",
    ")"
   ]
  },
  {
   "cell_type": "markdown",
   "id": "b7604a13-770d-45d3-bd36-23464ff39138",
   "metadata": {},
   "source": [
    "Then we perform the same operation using Dask:"
   ]
  },
  {
   "cell_type": "code",
   "execution_count": 7,
   "id": "0a84dc41-f128-4e4f-98da-44c7729b73a9",
   "metadata": {
    "collapsed": true,
    "jupyter": {
     "outputs_hidden": true
    },
    "tags": []
   },
   "outputs": [
    {
     "name": "stderr",
     "output_type": "stream",
     "text": [
      "/Users/dani/mambaforge/envs/gds/lib/python3.10/site-packages/shapely/set_operations.py:133: RuntimeWarning: invalid value encountered in intersection\n",
      "  return lib.intersection(a, b, **kwargs)\n"
     ]
    },
    {
     "ename": "TypeError",
     "evalue": "_area_interpolate_binning() got an unexpected keyword argument 'spatial_index'",
     "output_type": "error",
     "traceback": [
      "\u001b[0;31m---------------------------------------------------------------------------\u001b[0m",
      "\u001b[0;31mTypeError\u001b[0m                                 Traceback (most recent call last)",
      "Cell \u001b[0;32mIn[7], line 1\u001b[0m\n\u001b[0;32m----> 1\u001b[0m ext_dk \u001b[38;5;241m=\u001b[39m \u001b[43mtobler\u001b[49m\u001b[38;5;241;43m.\u001b[39;49m\u001b[43marea_weighted\u001b[49m\u001b[38;5;241;43m.\u001b[39;49m\u001b[43marea_interpolate_dask\u001b[49m\u001b[43m(\u001b[49m\n\u001b[1;32m      2\u001b[0m \u001b[43m    \u001b[49m\u001b[43mdtracts\u001b[49m\u001b[43m,\u001b[49m\u001b[43m \u001b[49m\u001b[43mdh3\u001b[49m\u001b[43m,\u001b[49m\u001b[43m \u001b[49m\u001b[38;5;124;43m'\u001b[39;49m\u001b[38;5;124;43mhex_id\u001b[39;49m\u001b[38;5;124;43m'\u001b[39;49m\u001b[43m,\u001b[49m\u001b[43m \u001b[49m\u001b[43mextensive_variables\u001b[49m\u001b[38;5;241;43m=\u001b[39;49m\u001b[43m[\u001b[49m\u001b[38;5;124;43m'\u001b[39;49m\u001b[38;5;124;43mtotal_pop\u001b[39;49m\u001b[38;5;124;43m'\u001b[39;49m\u001b[43m,\u001b[49m\u001b[43m \u001b[49m\u001b[38;5;124;43m'\u001b[39;49m\u001b[38;5;124;43mtotal_pop_white\u001b[39;49m\u001b[38;5;124;43m'\u001b[39;49m\u001b[43m]\u001b[49m\n\u001b[1;32m      3\u001b[0m \u001b[43m)\u001b[49m\n",
      "File \u001b[0;32m~/code/tobler_darribas/tobler/area_weighted/area_interpolate_dask.py:74\u001b[0m, in \u001b[0;36marea_interpolate_dask\u001b[0;34m(left_dgdf, right_dgdf, id_col, extensive_variables, intensive_variables, categorical_variables)\u001b[0m\n\u001b[1;32m     70\u001b[0m graph \u001b[38;5;241m=\u001b[39m HighLevelGraph\u001b[38;5;241m.\u001b[39mfrom_collections(\n\u001b[1;32m     71\u001b[0m     name, dsk, dependencies\u001b[38;5;241m=\u001b[39m[left_dgdf, right_dgdf]\n\u001b[1;32m     72\u001b[0m )\n\u001b[1;32m     73\u001b[0m \u001b[38;5;66;03m# Get metadata for the outcome table\u001b[39;00m\n\u001b[0;32m---> 74\u001b[0m meta \u001b[38;5;241m=\u001b[39m \u001b[43mid_area_interpolate\u001b[49m\u001b[43m(\u001b[49m\n\u001b[1;32m     75\u001b[0m \u001b[43m    \u001b[49m\u001b[43mleft_dgdf\u001b[49m\u001b[38;5;241;43m.\u001b[39;49m\u001b[43m_meta\u001b[49m\u001b[43m,\u001b[49m\n\u001b[1;32m     76\u001b[0m \u001b[43m    \u001b[49m\u001b[43mright_dgdf\u001b[49m\u001b[38;5;241;43m.\u001b[39;49m\u001b[43m_meta\u001b[49m\u001b[43m,\u001b[49m\n\u001b[1;32m     77\u001b[0m \u001b[43m    \u001b[49m\u001b[43mid_col\u001b[49m\u001b[43m,\u001b[49m\n\u001b[1;32m     78\u001b[0m \u001b[43m    \u001b[49m\u001b[43mextensive_variables\u001b[49m\u001b[38;5;241;43m=\u001b[39;49m\u001b[43mextensive_variables\u001b[49m\u001b[43m,\u001b[49m\n\u001b[1;32m     79\u001b[0m \u001b[43m    \u001b[49m\u001b[43mintensive_variables\u001b[49m\u001b[38;5;241;43m=\u001b[39;49m\u001b[43mintensive_variables\u001b[49m\u001b[43m,\u001b[49m\n\u001b[1;32m     80\u001b[0m \u001b[43m    \u001b[49m\u001b[43mtable\u001b[49m\u001b[38;5;241;43m=\u001b[39;49m\u001b[38;5;28;43;01mNone\u001b[39;49;00m\u001b[43m,\u001b[49m\n\u001b[1;32m     81\u001b[0m \u001b[43m    \u001b[49m\u001b[43mallocate_total\u001b[49m\u001b[38;5;241;43m=\u001b[39;49m\u001b[38;5;28;43;01mTrue\u001b[39;49;00m\u001b[43m,\u001b[49m\n\u001b[1;32m     82\u001b[0m \u001b[43m    \u001b[49m\u001b[43mspatial_index\u001b[49m\u001b[38;5;241;43m=\u001b[39;49m\u001b[38;5;124;43m'\u001b[39;49m\u001b[38;5;124;43mauto\u001b[39;49m\u001b[38;5;124;43m'\u001b[39;49m\u001b[43m,\u001b[49m\n\u001b[1;32m     83\u001b[0m \u001b[43m    \u001b[49m\u001b[43mn_jobs\u001b[49m\u001b[38;5;241;43m=\u001b[39;49m\u001b[38;5;241;43m1\u001b[39;49m\u001b[43m,\u001b[49m\n\u001b[1;32m     84\u001b[0m \u001b[43m    \u001b[49m\u001b[43mcategorical_variables\u001b[49m\u001b[38;5;241;43m=\u001b[39;49m\u001b[43mcategorical_variables\u001b[49m\u001b[43m,\u001b[49m\n\u001b[1;32m     85\u001b[0m \u001b[43m    \u001b[49m\u001b[43mcategory_vars\u001b[49m\u001b[38;5;241;43m=\u001b[39;49m\u001b[43mcategory_vars\u001b[49m\n\u001b[1;32m     86\u001b[0m \u001b[43m\u001b[49m\u001b[43m)\u001b[49m\n\u001b[1;32m     87\u001b[0m \u001b[38;5;66;03m# Build output table\u001b[39;00m\n\u001b[1;32m     88\u001b[0m transferred \u001b[38;5;241m=\u001b[39m dask_geopandas\u001b[38;5;241m.\u001b[39mGeoDataFrame(\n\u001b[1;32m     89\u001b[0m     graph, \n\u001b[1;32m     90\u001b[0m     name,\n\u001b[0;32m   (...)\u001b[0m\n\u001b[1;32m     93\u001b[0m     new_spatial_partitions\n\u001b[1;32m     94\u001b[0m )\n",
      "File \u001b[0;32m~/code/tobler_darribas/tobler/area_weighted/area_interpolate_dask.py:131\u001b[0m, in \u001b[0;36mid_area_interpolate\u001b[0;34m(source_df, target_df, id_col, extensive_variables, intensive_variables, table, allocate_total, spatial_index, n_jobs, categorical_variables, category_vars)\u001b[0m\n\u001b[1;32m    118\u001b[0m \u001b[38;5;28;01mdef\u001b[39;00m \u001b[38;5;21mid_area_interpolate\u001b[39m(\n\u001b[1;32m    119\u001b[0m     source_df,\n\u001b[1;32m    120\u001b[0m     target_df,\n\u001b[0;32m   (...)\u001b[0m\n\u001b[1;32m    129\u001b[0m     category_vars\u001b[38;5;241m=\u001b[39m\u001b[38;5;28;01mNone\u001b[39;00m\n\u001b[1;32m    130\u001b[0m ):\n\u001b[0;32m--> 131\u001b[0m     estimates \u001b[38;5;241m=\u001b[39m \u001b[43marea_interpolate\u001b[49m\u001b[43m(\u001b[49m\n\u001b[1;32m    132\u001b[0m \u001b[43m        \u001b[49m\u001b[43msource_df\u001b[49m\u001b[43m,\u001b[49m\n\u001b[1;32m    133\u001b[0m \u001b[43m        \u001b[49m\u001b[43mtarget_df\u001b[49m\u001b[43m,\u001b[49m\n\u001b[1;32m    134\u001b[0m \u001b[43m        \u001b[49m\u001b[43mextensive_variables\u001b[49m\u001b[38;5;241;43m=\u001b[39;49m\u001b[43mextensive_variables\u001b[49m\u001b[43m,\u001b[49m\n\u001b[1;32m    135\u001b[0m \u001b[43m        \u001b[49m\u001b[43mintensive_variables\u001b[49m\u001b[38;5;241;43m=\u001b[39;49m\u001b[43mintensive_variables\u001b[49m\u001b[43m,\u001b[49m\n\u001b[1;32m    136\u001b[0m \u001b[43m        \u001b[49m\u001b[43mtable\u001b[49m\u001b[38;5;241;43m=\u001b[39;49m\u001b[43mtable\u001b[49m\u001b[43m,\u001b[49m\n\u001b[1;32m    137\u001b[0m \u001b[43m        \u001b[49m\u001b[43mallocate_total\u001b[49m\u001b[38;5;241;43m=\u001b[39;49m\u001b[43mallocate_total\u001b[49m\u001b[43m,\u001b[49m\n\u001b[1;32m    138\u001b[0m \u001b[43m        \u001b[49m\u001b[43mspatial_index\u001b[49m\u001b[38;5;241;43m=\u001b[39;49m\u001b[43mspatial_index\u001b[49m\u001b[43m,\u001b[49m\n\u001b[1;32m    139\u001b[0m \u001b[43m        \u001b[49m\u001b[43mn_jobs\u001b[49m\u001b[38;5;241;43m=\u001b[39;49m\u001b[43mn_jobs\u001b[49m\u001b[43m,\u001b[49m\n\u001b[1;32m    140\u001b[0m \u001b[43m        \u001b[49m\u001b[43mcategorical_variables\u001b[49m\u001b[38;5;241;43m=\u001b[39;49m\u001b[43mcategorical_variables\u001b[49m\u001b[43m,\u001b[49m\n\u001b[1;32m    141\u001b[0m \u001b[43m    \u001b[49m\u001b[43m)\u001b[49m\n\u001b[1;32m    142\u001b[0m     estimates[id_col] \u001b[38;5;241m=\u001b[39m target_df[id_col]\u001b[38;5;241m.\u001b[39mvalues\n\u001b[1;32m    144\u001b[0m     \u001b[38;5;28;01mif\u001b[39;00m categorical_variables \u001b[38;5;129;01mis\u001b[39;00m \u001b[38;5;129;01mnot\u001b[39;00m \u001b[38;5;28;01mNone\u001b[39;00m:\n",
      "\u001b[0;31mTypeError\u001b[0m: _area_interpolate_binning() got an unexpected keyword argument 'spatial_index'"
     ]
    }
   ],
   "source": [
    "ext_dk = tobler.area_weighted.area_interpolate_dask(\n",
    "    dtracts, dh3, 'hex_id', extensive_variables=['total_pop', 'total_pop_white']\n",
    ")"
   ]
  },
  {
   "cell_type": "markdown",
   "id": "db296055-3865-43f8-bfd0-0ea40f246ba7",
   "metadata": {},
   "source": [
    "### Categorical"
   ]
  },
  {
   "cell_type": "markdown",
   "id": "8cf00b26-765c-40ce-a78a-dcfce4838c88",
   "metadata": {},
   "source": [
    "Single-core:"
   ]
  },
  {
   "cell_type": "code",
   "execution_count": 8,
   "id": "cbb3dbbd-70e4-4c3d-935e-6a6b60341f7c",
   "metadata": {
    "collapsed": true,
    "jupyter": {
     "outputs_hidden": true
    },
    "tags": []
   },
   "outputs": [
    {
     "name": "stderr",
     "output_type": "stream",
     "text": [
      "/Users/dani/mambaforge/envs/gds/lib/python3.10/site-packages/shapely/predicates.py:798: RuntimeWarning: invalid value encountered in intersects\n",
      "  return lib.intersects(a, b, **kwargs)\n",
      "/Users/dani/mambaforge/envs/gds/lib/python3.10/site-packages/shapely/set_operations.py:133: RuntimeWarning: invalid value encountered in intersection\n",
      "  return lib.intersection(a, b, **kwargs)\n"
     ]
    },
    {
     "ename": "TypeError",
     "evalue": "Object with dtype category cannot perform the numpy op isnan",
     "output_type": "error",
     "traceback": [
      "\u001b[0;31m---------------------------------------------------------------------------\u001b[0m",
      "\u001b[0;31mTypeError\u001b[0m                                 Traceback (most recent call last)",
      "Cell \u001b[0;32mIn[8], line 1\u001b[0m\n\u001b[0;32m----> 1\u001b[0m cat_sc \u001b[38;5;241m=\u001b[39m \u001b[43mtobler\u001b[49m\u001b[38;5;241;43m.\u001b[39;49m\u001b[43marea_weighted\u001b[49m\u001b[38;5;241;43m.\u001b[39;49m\u001b[43marea_interpolate\u001b[49m\u001b[43m(\u001b[49m\n\u001b[1;32m      2\u001b[0m \u001b[43m    \u001b[49m\u001b[43mtracts\u001b[49m\u001b[43m,\u001b[49m\u001b[43m \u001b[49m\u001b[43mh3\u001b[49m\u001b[43m,\u001b[49m\u001b[43m \u001b[49m\u001b[43mextensive_variables\u001b[49m\u001b[38;5;241;43m=\u001b[39;49m\u001b[43m[\u001b[49m\u001b[38;5;124;43m'\u001b[39;49m\u001b[38;5;124;43msub_30\u001b[39;49m\u001b[38;5;124;43m'\u001b[39;49m\u001b[43m,\u001b[49m\u001b[43m \u001b[49m\u001b[38;5;124;43m'\u001b[39;49m\u001b[38;5;124;43mtract\u001b[39;49m\u001b[38;5;124;43m'\u001b[39;49m\u001b[43m]\u001b[49m\n\u001b[1;32m      3\u001b[0m \u001b[43m)\u001b[49m\n",
      "File \u001b[0;32m~/code/tobler_darribas/tobler/area_weighted/area_interpolate.py:267\u001b[0m, in \u001b[0;36m_area_interpolate_binning\u001b[0;34m(source_df, target_df, extensive_variables, intensive_variables, table, allocate_total)\u001b[0m\n\u001b[1;32m    265\u001b[0m \u001b[38;5;28;01mif\u001b[39;00m extensive_variables:\n\u001b[1;32m    266\u001b[0m     \u001b[38;5;28;01mfor\u001b[39;00m variable \u001b[38;5;129;01min\u001b[39;00m extensive_variables:\n\u001b[0;32m--> 267\u001b[0m         vals \u001b[38;5;241m=\u001b[39m \u001b[43m_nan_check\u001b[49m\u001b[43m(\u001b[49m\u001b[43msource_df\u001b[49m\u001b[43m,\u001b[49m\u001b[43m \u001b[49m\u001b[43mvariable\u001b[49m\u001b[43m)\u001b[49m\n\u001b[1;32m    268\u001b[0m         vals \u001b[38;5;241m=\u001b[39m _inf_check(source_df, variable)\n\u001b[1;32m    269\u001b[0m         estimates \u001b[38;5;241m=\u001b[39m diags([vals], [\u001b[38;5;241m0\u001b[39m])\u001b[38;5;241m.\u001b[39mdot(weights)\n",
      "File \u001b[0;32m~/code/tobler_darribas/tobler/util/util.py:25\u001b[0m, in \u001b[0;36m_nan_check\u001b[0;34m(df, column)\u001b[0m\n\u001b[1;32m     20\u001b[0m \u001b[38;5;250m\u001b[39m\u001b[38;5;124;03m\"\"\"Check if variable has nan values.\u001b[39;00m\n\u001b[1;32m     21\u001b[0m \n\u001b[1;32m     22\u001b[0m \u001b[38;5;124;03mWarn and replace nan with 0.0.\u001b[39;00m\n\u001b[1;32m     23\u001b[0m \u001b[38;5;124;03m\"\"\"\u001b[39;00m\n\u001b[1;32m     24\u001b[0m values \u001b[38;5;241m=\u001b[39m df[column]\u001b[38;5;241m.\u001b[39mvalues\n\u001b[0;32m---> 25\u001b[0m \u001b[38;5;28;01mif\u001b[39;00m np\u001b[38;5;241m.\u001b[39many(\u001b[43mnp\u001b[49m\u001b[38;5;241;43m.\u001b[39;49m\u001b[43misnan\u001b[49m\u001b[43m(\u001b[49m\u001b[43mvalues\u001b[49m\u001b[43m)\u001b[49m) \u001b[38;5;129;01mor\u001b[39;00m np\u001b[38;5;241m.\u001b[39many(np\u001b[38;5;241m.\u001b[39misinf(values)):\n\u001b[1;32m     26\u001b[0m     wherenan \u001b[38;5;241m=\u001b[39m np\u001b[38;5;241m.\u001b[39misnan(values)\n\u001b[1;32m     27\u001b[0m     values[wherenan] \u001b[38;5;241m=\u001b[39m \u001b[38;5;241m0.0\u001b[39m\n",
      "File \u001b[0;32m~/mambaforge/envs/gds/lib/python3.10/site-packages/pandas/core/arrays/categorical.py:1639\u001b[0m, in \u001b[0;36mCategorical.__array_ufunc__\u001b[0;34m(self, ufunc, method, *inputs, **kwargs)\u001b[0m\n\u001b[1;32m   1635\u001b[0m         \u001b[38;5;28;01mreturn\u001b[39;00m result\n\u001b[1;32m   1637\u001b[0m \u001b[38;5;66;03m# for all other cases, raise for now (similarly as what happens in\u001b[39;00m\n\u001b[1;32m   1638\u001b[0m \u001b[38;5;66;03m# Series.__array_prepare__)\u001b[39;00m\n\u001b[0;32m-> 1639\u001b[0m \u001b[38;5;28;01mraise\u001b[39;00m \u001b[38;5;167;01mTypeError\u001b[39;00m(\n\u001b[1;32m   1640\u001b[0m     \u001b[38;5;124mf\u001b[39m\u001b[38;5;124m\"\u001b[39m\u001b[38;5;124mObject with dtype \u001b[39m\u001b[38;5;132;01m{\u001b[39;00m\u001b[38;5;28mself\u001b[39m\u001b[38;5;241m.\u001b[39mdtype\u001b[38;5;132;01m}\u001b[39;00m\u001b[38;5;124m cannot perform \u001b[39m\u001b[38;5;124m\"\u001b[39m\n\u001b[1;32m   1641\u001b[0m     \u001b[38;5;124mf\u001b[39m\u001b[38;5;124m\"\u001b[39m\u001b[38;5;124mthe numpy op \u001b[39m\u001b[38;5;132;01m{\u001b[39;00mufunc\u001b[38;5;241m.\u001b[39m\u001b[38;5;18m__name__\u001b[39m\u001b[38;5;132;01m}\u001b[39;00m\u001b[38;5;124m\"\u001b[39m\n\u001b[1;32m   1642\u001b[0m )\n",
      "\u001b[0;31mTypeError\u001b[0m: Object with dtype category cannot perform the numpy op isnan"
     ]
    }
   ],
   "source": [
    "cat_sc = tobler.area_weighted.area_interpolate(\n",
    "    tracts, h3, extensive_variables=['sub_30', 'tract']\n",
    ")"
   ]
  },
  {
   "cell_type": "markdown",
   "id": "76507c2b-769a-4b80-8b62-40206e2cab42",
   "metadata": {},
   "source": [
    "And through Dask:"
   ]
  },
  {
   "cell_type": "code",
   "execution_count": 9,
   "id": "7107527b-88cc-4e9c-97d2-72a1d153c657",
   "metadata": {
    "tags": []
   },
   "outputs": [
    {
     "name": "stderr",
     "output_type": "stream",
     "text": [
      "/Users/dani/mambaforge/envs/gds/lib/python3.10/site-packages/shapely/set_operations.py:133: RuntimeWarning: invalid value encountered in intersection\n",
      "  return lib.intersection(a, b, **kwargs)\n"
     ]
    },
    {
     "ename": "TypeError",
     "evalue": "_area_interpolate_binning() got an unexpected keyword argument 'spatial_index'",
     "output_type": "error",
     "traceback": [
      "\u001b[0;31m---------------------------------------------------------------------------\u001b[0m",
      "\u001b[0;31mTypeError\u001b[0m                                 Traceback (most recent call last)",
      "Cell \u001b[0;32mIn[9], line 1\u001b[0m\n\u001b[0;32m----> 1\u001b[0m ext_dk \u001b[38;5;241m=\u001b[39m \u001b[43mtobler\u001b[49m\u001b[38;5;241;43m.\u001b[39;49m\u001b[43marea_weighted\u001b[49m\u001b[38;5;241;43m.\u001b[39;49m\u001b[43marea_interpolate_dask\u001b[49m\u001b[43m(\u001b[49m\n\u001b[1;32m      2\u001b[0m \u001b[43m    \u001b[49m\u001b[43mdtracts\u001b[49m\u001b[43m,\u001b[49m\u001b[43m \u001b[49m\u001b[43mdh3\u001b[49m\u001b[43m,\u001b[49m\u001b[43m \u001b[49m\u001b[38;5;124;43m'\u001b[39;49m\u001b[38;5;124;43mhex_id\u001b[39;49m\u001b[38;5;124;43m'\u001b[39;49m\u001b[43m,\u001b[49m\u001b[43m \u001b[49m\u001b[43mextensive_variables\u001b[49m\u001b[38;5;241;43m=\u001b[39;49m\u001b[43m[\u001b[49m\u001b[38;5;124;43m'\u001b[39;49m\u001b[38;5;124;43msub_30\u001b[39;49m\u001b[38;5;124;43m'\u001b[39;49m\u001b[43m,\u001b[49m\u001b[43m \u001b[49m\u001b[38;5;124;43m'\u001b[39;49m\u001b[38;5;124;43mtract\u001b[39;49m\u001b[38;5;124;43m'\u001b[39;49m\u001b[43m]\u001b[49m\n\u001b[1;32m      3\u001b[0m \u001b[43m)\u001b[49m\n",
      "File \u001b[0;32m~/code/tobler_darribas/tobler/area_weighted/area_interpolate_dask.py:74\u001b[0m, in \u001b[0;36marea_interpolate_dask\u001b[0;34m(left_dgdf, right_dgdf, id_col, extensive_variables, intensive_variables, categorical_variables)\u001b[0m\n\u001b[1;32m     70\u001b[0m graph \u001b[38;5;241m=\u001b[39m HighLevelGraph\u001b[38;5;241m.\u001b[39mfrom_collections(\n\u001b[1;32m     71\u001b[0m     name, dsk, dependencies\u001b[38;5;241m=\u001b[39m[left_dgdf, right_dgdf]\n\u001b[1;32m     72\u001b[0m )\n\u001b[1;32m     73\u001b[0m \u001b[38;5;66;03m# Get metadata for the outcome table\u001b[39;00m\n\u001b[0;32m---> 74\u001b[0m meta \u001b[38;5;241m=\u001b[39m \u001b[43mid_area_interpolate\u001b[49m\u001b[43m(\u001b[49m\n\u001b[1;32m     75\u001b[0m \u001b[43m    \u001b[49m\u001b[43mleft_dgdf\u001b[49m\u001b[38;5;241;43m.\u001b[39;49m\u001b[43m_meta\u001b[49m\u001b[43m,\u001b[49m\n\u001b[1;32m     76\u001b[0m \u001b[43m    \u001b[49m\u001b[43mright_dgdf\u001b[49m\u001b[38;5;241;43m.\u001b[39;49m\u001b[43m_meta\u001b[49m\u001b[43m,\u001b[49m\n\u001b[1;32m     77\u001b[0m \u001b[43m    \u001b[49m\u001b[43mid_col\u001b[49m\u001b[43m,\u001b[49m\n\u001b[1;32m     78\u001b[0m \u001b[43m    \u001b[49m\u001b[43mextensive_variables\u001b[49m\u001b[38;5;241;43m=\u001b[39;49m\u001b[43mextensive_variables\u001b[49m\u001b[43m,\u001b[49m\n\u001b[1;32m     79\u001b[0m \u001b[43m    \u001b[49m\u001b[43mintensive_variables\u001b[49m\u001b[38;5;241;43m=\u001b[39;49m\u001b[43mintensive_variables\u001b[49m\u001b[43m,\u001b[49m\n\u001b[1;32m     80\u001b[0m \u001b[43m    \u001b[49m\u001b[43mtable\u001b[49m\u001b[38;5;241;43m=\u001b[39;49m\u001b[38;5;28;43;01mNone\u001b[39;49;00m\u001b[43m,\u001b[49m\n\u001b[1;32m     81\u001b[0m \u001b[43m    \u001b[49m\u001b[43mallocate_total\u001b[49m\u001b[38;5;241;43m=\u001b[39;49m\u001b[38;5;28;43;01mTrue\u001b[39;49;00m\u001b[43m,\u001b[49m\n\u001b[1;32m     82\u001b[0m \u001b[43m    \u001b[49m\u001b[43mspatial_index\u001b[49m\u001b[38;5;241;43m=\u001b[39;49m\u001b[38;5;124;43m'\u001b[39;49m\u001b[38;5;124;43mauto\u001b[39;49m\u001b[38;5;124;43m'\u001b[39;49m\u001b[43m,\u001b[49m\n\u001b[1;32m     83\u001b[0m \u001b[43m    \u001b[49m\u001b[43mn_jobs\u001b[49m\u001b[38;5;241;43m=\u001b[39;49m\u001b[38;5;241;43m1\u001b[39;49m\u001b[43m,\u001b[49m\n\u001b[1;32m     84\u001b[0m \u001b[43m    \u001b[49m\u001b[43mcategorical_variables\u001b[49m\u001b[38;5;241;43m=\u001b[39;49m\u001b[43mcategorical_variables\u001b[49m\u001b[43m,\u001b[49m\n\u001b[1;32m     85\u001b[0m \u001b[43m    \u001b[49m\u001b[43mcategory_vars\u001b[49m\u001b[38;5;241;43m=\u001b[39;49m\u001b[43mcategory_vars\u001b[49m\n\u001b[1;32m     86\u001b[0m \u001b[43m\u001b[49m\u001b[43m)\u001b[49m\n\u001b[1;32m     87\u001b[0m \u001b[38;5;66;03m# Build output table\u001b[39;00m\n\u001b[1;32m     88\u001b[0m transferred \u001b[38;5;241m=\u001b[39m dask_geopandas\u001b[38;5;241m.\u001b[39mGeoDataFrame(\n\u001b[1;32m     89\u001b[0m     graph, \n\u001b[1;32m     90\u001b[0m     name,\n\u001b[0;32m   (...)\u001b[0m\n\u001b[1;32m     93\u001b[0m     new_spatial_partitions\n\u001b[1;32m     94\u001b[0m )\n",
      "File \u001b[0;32m~/code/tobler_darribas/tobler/area_weighted/area_interpolate_dask.py:131\u001b[0m, in \u001b[0;36mid_area_interpolate\u001b[0;34m(source_df, target_df, id_col, extensive_variables, intensive_variables, table, allocate_total, spatial_index, n_jobs, categorical_variables, category_vars)\u001b[0m\n\u001b[1;32m    118\u001b[0m \u001b[38;5;28;01mdef\u001b[39;00m \u001b[38;5;21mid_area_interpolate\u001b[39m(\n\u001b[1;32m    119\u001b[0m     source_df,\n\u001b[1;32m    120\u001b[0m     target_df,\n\u001b[0;32m   (...)\u001b[0m\n\u001b[1;32m    129\u001b[0m     category_vars\u001b[38;5;241m=\u001b[39m\u001b[38;5;28;01mNone\u001b[39;00m\n\u001b[1;32m    130\u001b[0m ):\n\u001b[0;32m--> 131\u001b[0m     estimates \u001b[38;5;241m=\u001b[39m \u001b[43marea_interpolate\u001b[49m\u001b[43m(\u001b[49m\n\u001b[1;32m    132\u001b[0m \u001b[43m        \u001b[49m\u001b[43msource_df\u001b[49m\u001b[43m,\u001b[49m\n\u001b[1;32m    133\u001b[0m \u001b[43m        \u001b[49m\u001b[43mtarget_df\u001b[49m\u001b[43m,\u001b[49m\n\u001b[1;32m    134\u001b[0m \u001b[43m        \u001b[49m\u001b[43mextensive_variables\u001b[49m\u001b[38;5;241;43m=\u001b[39;49m\u001b[43mextensive_variables\u001b[49m\u001b[43m,\u001b[49m\n\u001b[1;32m    135\u001b[0m \u001b[43m        \u001b[49m\u001b[43mintensive_variables\u001b[49m\u001b[38;5;241;43m=\u001b[39;49m\u001b[43mintensive_variables\u001b[49m\u001b[43m,\u001b[49m\n\u001b[1;32m    136\u001b[0m \u001b[43m        \u001b[49m\u001b[43mtable\u001b[49m\u001b[38;5;241;43m=\u001b[39;49m\u001b[43mtable\u001b[49m\u001b[43m,\u001b[49m\n\u001b[1;32m    137\u001b[0m \u001b[43m        \u001b[49m\u001b[43mallocate_total\u001b[49m\u001b[38;5;241;43m=\u001b[39;49m\u001b[43mallocate_total\u001b[49m\u001b[43m,\u001b[49m\n\u001b[1;32m    138\u001b[0m \u001b[43m        \u001b[49m\u001b[43mspatial_index\u001b[49m\u001b[38;5;241;43m=\u001b[39;49m\u001b[43mspatial_index\u001b[49m\u001b[43m,\u001b[49m\n\u001b[1;32m    139\u001b[0m \u001b[43m        \u001b[49m\u001b[43mn_jobs\u001b[49m\u001b[38;5;241;43m=\u001b[39;49m\u001b[43mn_jobs\u001b[49m\u001b[43m,\u001b[49m\n\u001b[1;32m    140\u001b[0m \u001b[43m        \u001b[49m\u001b[43mcategorical_variables\u001b[49m\u001b[38;5;241;43m=\u001b[39;49m\u001b[43mcategorical_variables\u001b[49m\u001b[43m,\u001b[49m\n\u001b[1;32m    141\u001b[0m \u001b[43m    \u001b[49m\u001b[43m)\u001b[49m\n\u001b[1;32m    142\u001b[0m     estimates[id_col] \u001b[38;5;241m=\u001b[39m target_df[id_col]\u001b[38;5;241m.\u001b[39mvalues\n\u001b[1;32m    144\u001b[0m     \u001b[38;5;28;01mif\u001b[39;00m categorical_variables \u001b[38;5;129;01mis\u001b[39;00m \u001b[38;5;129;01mnot\u001b[39;00m \u001b[38;5;28;01mNone\u001b[39;00m:\n",
      "\u001b[0;31mTypeError\u001b[0m: _area_interpolate_binning() got an unexpected keyword argument 'spatial_index'"
     ]
    }
   ],
   "source": [
    "ext_dk = tobler.area_weighted.area_interpolate_dask(\n",
    "    dtracts, dh3, 'hex_id', extensive_variables=['sub_30', 'tract']\n",
    ")"
   ]
  },
  {
   "cell_type": "markdown",
   "id": "571e7878-25ad-49bc-a7a5-a632988f6a4b",
   "metadata": {},
   "source": [
    "## Performance"
   ]
  }
 ],
 "metadata": {
  "kernelspec": {
   "display_name": "Python 3 (ipykernel)",
   "language": "python",
   "name": "python3"
  },
  "language_info": {
   "codemirror_mode": {
    "name": "ipython",
    "version": 3
   },
   "file_extension": ".py",
   "mimetype": "text/x-python",
   "name": "python",
   "nbconvert_exporter": "python",
   "pygments_lexer": "ipython3",
   "version": "3.10.10"
  }
 },
 "nbformat": 4,
 "nbformat_minor": 5
}
